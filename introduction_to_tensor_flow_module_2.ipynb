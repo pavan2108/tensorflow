{
  "nbformat": 4,
  "nbformat_minor": 0,
  "metadata": {
    "colab": {
      "name": "introduction to tensor flow module - 2",
      "provenance": [],
      "authorship_tag": "ABX9TyM30ELNZwYZ3o78sGrYtE+h",
      "include_colab_link": true
    },
    "kernelspec": {
      "name": "python3",
      "display_name": "Python 3"
    },
    "language_info": {
      "name": "python"
    }
  },
  "cells": [
    {
      "cell_type": "markdown",
      "metadata": {
        "id": "view-in-github",
        "colab_type": "text"
      },
      "source": [
        "<a href=\"https://colab.research.google.com/github/pavan2108/tensorflow/blob/main/introduction_to_tensor_flow_module_2.ipynb\" target=\"_parent\"><img src=\"https://colab.research.google.com/assets/colab-badge.svg\" alt=\"Open In Colab\"/></a>"
      ]
    },
    {
      "cell_type": "markdown",
      "metadata": {
        "id": "l0kpMfXdijMs"
      },
      "source": [
        "# Introduction to tensor flow"
      ]
    },
    {
      "cell_type": "markdown",
      "metadata": {
        "id": "W2slqjC2in6S"
      },
      "source": [
        ""
      ]
    },
    {
      "cell_type": "code",
      "metadata": {
        "id": "LQ0HzYsIlgIW"
      },
      "source": [
        "%tensorflow_version 2.x"
      ],
      "execution_count": 3,
      "outputs": []
    },
    {
      "cell_type": "code",
      "metadata": {
        "colab": {
          "base_uri": "https://localhost:8080/"
        },
        "id": "5hUmnFdHloFF",
        "outputId": "9c42851e-27d2-4bba-ecd6-1f03ab29f69b"
      },
      "source": [
        "import tensorflow as tf\n",
        "print(tf.version)"
      ],
      "execution_count": 4,
      "outputs": [
        {
          "output_type": "stream",
          "text": [
            "<module 'tensorflow._api.v2.version' from '/usr/local/lib/python3.7/dist-packages/tensorflow/_api/v2/version/__init__.py'>\n"
          ],
          "name": "stdout"
        }
      ]
    },
    {
      "cell_type": "markdown",
      "metadata": {
        "id": "A3j71HowocYR"
      },
      "source": [
        "#### Creating Tensors"
      ]
    },
    {
      "cell_type": "code",
      "metadata": {
        "colab": {
          "base_uri": "https://localhost:8080/"
        },
        "id": "yIruPhv8nF7q",
        "outputId": "38814c24-cef0-4f68-91f6-ba20e62de66b"
      },
      "source": [
        "string = tf.Variable(\"This is a string\", tf.string)\n",
        "number = tf.Variable(1200, tf.int32)\n",
        "floating = tf.Variable(2.23, tf.float32)\n",
        "print(string, number, floating, sep=\"\\n\")\n",
        "print(string.value, number.value, floating.value, sep=\"\\n\")"
      ],
      "execution_count": 12,
      "outputs": [
        {
          "output_type": "stream",
          "text": [
            "<tf.Variable 'Variable:0' shape=() dtype=string, numpy=b'This is a string'>\n",
            "<tf.Variable 'Variable:0' shape=() dtype=int32, numpy=1200>\n",
            "<tf.Variable 'Variable:0' shape=() dtype=float32, numpy=2.23>\n",
            "<bound method BaseResourceVariable.value of <tf.Variable 'Variable:0' shape=() dtype=string, numpy=b'This is a string'>>\n",
            "<bound method BaseResourceVariable.value of <tf.Variable 'Variable:0' shape=() dtype=int32, numpy=1200>>\n",
            "<bound method BaseResourceVariable.value of <tf.Variable 'Variable:0' shape=() dtype=float32, numpy=2.23>>\n"
          ],
          "name": "stdout"
        }
      ]
    },
    {
      "cell_type": "markdown",
      "metadata": {
        "id": "93muR8Fjou8G"
      },
      "source": [
        "#### Rank or degree of tensors"
      ]
    },
    {
      "cell_type": "code",
      "metadata": {
        "id": "VpBqt4j_ozux"
      },
      "source": [
        "tensor_rank1 = tf.Variable([\"Test\"], tf.string)\n",
        "tensor_rank2 = tf.Variable([[1,2],[3,4]], tf.int16)"
      ],
      "execution_count": 16,
      "outputs": []
    },
    {
      "cell_type": "markdown",
      "metadata": {
        "id": "-KoDEWsrp9bB"
      },
      "source": [
        "#### small data on rank\n",
        "\n",
        "            variable string, number, floating is of rank 0\n",
        "            tensor_ranks1 is of rank 1 as it is of 1d array\n",
        "            tensor_rank2 is of rank 2 as it is of 2d array"
      ]
    },
    {
      "cell_type": "code",
      "metadata": {
        "colab": {
          "base_uri": "https://localhost:8080/"
        },
        "id": "L6M427Z5pScS",
        "outputId": "6f83a31a-2265-46c8-d41a-56b5557f63b5"
      },
      "source": [
        "tf.rank(tensor_rank1)"
      ],
      "execution_count": 17,
      "outputs": [
        {
          "output_type": "execute_result",
          "data": {
            "text/plain": [
              "<tf.Tensor: shape=(), dtype=int32, numpy=1>"
            ]
          },
          "metadata": {
            "tags": []
          },
          "execution_count": 17
        }
      ]
    },
    {
      "cell_type": "code",
      "metadata": {
        "colab": {
          "base_uri": "https://localhost:8080/"
        },
        "id": "1wO3Y10opYsx",
        "outputId": "cf9cea65-2d24-46fd-be8f-d101f374923c"
      },
      "source": [
        "tf.rank(tensor_rank2)"
      ],
      "execution_count": 18,
      "outputs": [
        {
          "output_type": "execute_result",
          "data": {
            "text/plain": [
              "<tf.Tensor: shape=(), dtype=int32, numpy=2>"
            ]
          },
          "metadata": {
            "tags": []
          },
          "execution_count": 18
        }
      ]
    },
    {
      "cell_type": "code",
      "metadata": {
        "colab": {
          "base_uri": "https://localhost:8080/"
        },
        "id": "YU2TuO6HpoFV",
        "outputId": "d6705ae4-6a19-426e-a4ea-41295724de64"
      },
      "source": [
        "tf.shape(tensor_rank2)"
      ],
      "execution_count": 19,
      "outputs": [
        {
          "output_type": "execute_result",
          "data": {
            "text/plain": [
              "<tf.Tensor: shape=(2,), dtype=int32, numpy=array([2, 2], dtype=int32)>"
            ]
          },
          "metadata": {
            "tags": []
          },
          "execution_count": 19
        }
      ]
    },
    {
      "cell_type": "code",
      "metadata": {
        "colab": {
          "base_uri": "https://localhost:8080/"
        },
        "id": "X2fI2B4Dqc63",
        "outputId": "20e79890-0d5c-4983-f193-333115837ffa"
      },
      "source": [
        "tensor_rank2.shape"
      ],
      "execution_count": 20,
      "outputs": [
        {
          "output_type": "execute_result",
          "data": {
            "text/plain": [
              "TensorShape([2, 2])"
            ]
          },
          "metadata": {
            "tags": []
          },
          "execution_count": 20
        }
      ]
    },
    {
      "cell_type": "markdown",
      "metadata": {
        "id": "kgXHi7H_rnsu"
      },
      "source": [
        "#### Reshape tensors"
      ]
    },
    {
      "cell_type": "code",
      "metadata": {
        "id": "SnSKd2Qzrskk"
      },
      "source": [
        "tensor1 = tf.ones([1, 2, 3])\n",
        "tensor2 = tf.reshape(tensor1, [3,1, 2])\n",
        "tensor3 = tf.reshape(tensor1, [3, -1])"
      ],
      "execution_count": 25,
      "outputs": []
    },
    {
      "cell_type": "code",
      "metadata": {
        "colab": {
          "base_uri": "https://localhost:8080/"
        },
        "id": "ZSET6SS5sd0o",
        "outputId": "5661833f-1086-4519-948f-19ed3a58432d"
      },
      "source": [
        "print(tensor1)\n",
        "print(tensor2)\n",
        "print(tensor3)"
      ],
      "execution_count": 26,
      "outputs": [
        {
          "output_type": "stream",
          "text": [
            "tf.Tensor(\n",
            "[[[1. 1. 1.]\n",
            "  [1. 1. 1.]]], shape=(1, 2, 3), dtype=float32)\n",
            "tf.Tensor(\n",
            "[[[1. 1.]]\n",
            "\n",
            " [[1. 1.]]\n",
            "\n",
            " [[1. 1.]]], shape=(3, 1, 2), dtype=float32)\n",
            "tf.Tensor(\n",
            "[[1. 1.]\n",
            " [1. 1.]\n",
            " [1. 1.]], shape=(3, 2), dtype=float32)\n"
          ],
          "name": "stdout"
        }
      ]
    },
    {
      "cell_type": "markdown",
      "metadata": {
        "id": "AKGhaKf_uMbz"
      },
      "source": [
        "#### Evaluating tensors"
      ]
    },
    {
      "cell_type": "code",
      "metadata": {
        "id": "a6JpRB4IuRDM"
      },
      "source": [
        "# with tf.Session() as sess:\n",
        "#     tensor_rank2.eval()"
      ],
      "execution_count": 28,
      "outputs": []
    }
  ]
}